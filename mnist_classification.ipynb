{
 "cells": [
  {
   "cell_type": "markdown",
   "id": "d507cd34",
   "metadata": {},
   "source": [
    "## Import what we need"
   ]
  },
  {
   "cell_type": "code",
   "execution_count": 1,
   "id": "6f5fb319",
   "metadata": {},
   "outputs": [],
   "source": [
    "import tensorflow as tf\n",
    "import numpy as np\n",
    "import pandas as pd\n",
    "import matplotlib.pyplot as plt"
   ]
  },
  {
   "cell_type": "markdown",
   "id": "36ab0a10",
   "metadata": {},
   "source": [
    "## Loading data from mnist dataset"
   ]
  },
  {
   "cell_type": "code",
   "execution_count": 2,
   "id": "fd29a7bd",
   "metadata": {},
   "outputs": [],
   "source": [
    "(train_data, train_labels), (test_data, test_labels) = tf.keras.datasets.mnist.load_data()"
   ]
  },
  {
   "cell_type": "markdown",
   "id": "4ed63d84",
   "metadata": {},
   "source": [
    "## Checking shapes and dtypes"
   ]
  },
  {
   "cell_type": "code",
   "execution_count": 3,
   "id": "37913480",
   "metadata": {},
   "outputs": [
    {
     "name": "stdout",
     "output_type": "stream",
     "text": [
      "Train Data Check\n",
      "<class 'numpy.ndarray'>\n",
      "uint8\n",
      "(60000, 28, 28)\n",
      "Train Labels Check\n",
      "<class 'numpy.ndarray'>\n",
      "uint8\n",
      "(60000,)\n",
      "Test Data Check\n",
      "<class 'numpy.ndarray'>\n",
      "uint8\n",
      "(10000, 28, 28)\n",
      "Test Labels Check\n",
      "<class 'numpy.ndarray'>\n",
      "uint8\n",
      "(10000,)\n"
     ]
    }
   ],
   "source": [
    "print(\"Train Data Check\")\n",
    "print(type(train_data))\n",
    "print(train_data.dtype)\n",
    "print(train_data.shape)\n",
    "\n",
    "print(\"Train Labels Check\")\n",
    "print(type(train_labels))\n",
    "print(train_labels.dtype)\n",
    "print(train_labels.shape)\n",
    "\n",
    "print(\"Test Data Check\")\n",
    "print(type(test_data))\n",
    "print(test_data.dtype)\n",
    "print(test_data.shape)\n",
    "\n",
    "print(\"Test Labels Check\")\n",
    "print(type(test_labels))\n",
    "print(test_labels.dtype)\n",
    "print(test_labels.shape)"
   ]
  },
  {
   "cell_type": "markdown",
   "id": "3305d41e",
   "metadata": {},
   "source": [
    "## Flattening Data(Images) by reshaping to (-1, 784)"
   ]
  },
  {
   "cell_type": "code",
   "execution_count": 4,
   "id": "485b7f17",
   "metadata": {},
   "outputs": [
    {
     "data": {
      "text/plain": [
       "((60000, 784), (10000, 784))"
      ]
     },
     "execution_count": 4,
     "metadata": {},
     "output_type": "execute_result"
    }
   ],
   "source": [
    "train_data = np.reshape(train_data, (-1, 28 * 28))\n",
    "test_data = np.reshape(test_data, (-1, 28 * 28))\n",
    "train_data.shape, test_data.shape"
   ]
  },
  {
   "cell_type": "markdown",
   "id": "124e7dbd",
   "metadata": {},
   "source": [
    "## Converting labels to One-Hot encoding"
   ]
  },
  {
   "cell_type": "code",
   "execution_count": 6,
   "id": "4fffbc13",
   "metadata": {},
   "outputs": [
    {
     "name": "stdout",
     "output_type": "stream",
     "text": [
      "ERROR! Session/line number was not unique in database. History logging moved to new session 100\n"
     ]
    }
   ],
   "source": [
    "from tensorflow.keras.utils import to_categorical"
   ]
  },
  {
   "cell_type": "code",
   "execution_count": 7,
   "id": "5573a939",
   "metadata": {},
   "outputs": [
    {
     "data": {
      "text/plain": [
       "(60000, 10)"
      ]
     },
     "execution_count": 7,
     "metadata": {},
     "output_type": "execute_result"
    }
   ],
   "source": [
    "train_labels = to_categorical(train_labels, num_classes=10)\n",
    "train_labels.shape"
   ]
  },
  {
   "cell_type": "code",
   "execution_count": 8,
   "id": "f30fe815",
   "metadata": {},
   "outputs": [
    {
     "data": {
      "text/plain": [
       "(10000, 10)"
      ]
     },
     "execution_count": 8,
     "metadata": {},
     "output_type": "execute_result"
    }
   ],
   "source": [
    "test_labels = to_categorical(test_labels, num_classes=10)\n",
    "test_labels.shape"
   ]
  },
  {
   "cell_type": "code",
   "execution_count": 9,
   "id": "270d566a",
   "metadata": {},
   "outputs": [
    {
     "data": {
      "text/plain": [
       "array([0., 0., 0., 0., 0., 1., 0., 0., 0., 0.], dtype=float32)"
      ]
     },
     "execution_count": 9,
     "metadata": {},
     "output_type": "execute_result"
    }
   ],
   "source": [
    "train_labels[0]"
   ]
  },
  {
   "cell_type": "code",
   "execution_count": 10,
   "id": "b7ffbf3d",
   "metadata": {},
   "outputs": [
    {
     "data": {
      "text/plain": [
       "array([0., 0., 0., 0., 0., 0., 0., 1., 0., 0.], dtype=float32)"
      ]
     },
     "execution_count": 10,
     "metadata": {},
     "output_type": "execute_result"
    }
   ],
   "source": [
    "test_labels[0]"
   ]
  },
  {
   "cell_type": "markdown",
   "id": "efcd1bae",
   "metadata": {},
   "source": [
    "## Normalize data"
   ]
  },
  {
   "cell_type": "code",
   "execution_count": 11,
   "id": "d2084ed7",
   "metadata": {},
   "outputs": [
    {
     "data": {
      "text/plain": [
       "(0, 255)"
      ]
     },
     "execution_count": 11,
     "metadata": {},
     "output_type": "execute_result"
    }
   ],
   "source": [
    "train_data.min(), train_data.max()"
   ]
  },
  {
   "cell_type": "code",
   "execution_count": 12,
   "id": "0cd9b49f",
   "metadata": {},
   "outputs": [],
   "source": [
    "train_data = train_data.astype('float32')\n",
    "train_data = train_data / 255"
   ]
  },
  {
   "cell_type": "code",
   "execution_count": 13,
   "id": "0a251e1d",
   "metadata": {},
   "outputs": [
    {
     "data": {
      "text/plain": [
       "(0.0, 1.0)"
      ]
     },
     "execution_count": 13,
     "metadata": {},
     "output_type": "execute_result"
    }
   ],
   "source": [
    "train_data.min(), train_data.max()"
   ]
  },
  {
   "cell_type": "code",
   "execution_count": 14,
   "id": "9e7ec3a3",
   "metadata": {},
   "outputs": [
    {
     "data": {
      "text/plain": [
       "(0, 255)"
      ]
     },
     "execution_count": 14,
     "metadata": {},
     "output_type": "execute_result"
    }
   ],
   "source": [
    "test_data.min(), test_data.max()"
   ]
  },
  {
   "cell_type": "code",
   "execution_count": 15,
   "id": "ef07fd6d",
   "metadata": {},
   "outputs": [],
   "source": [
    "test_data = test_data.astype('float32')\n",
    "test_data = test_data / 255 "
   ]
  },
  {
   "cell_type": "code",
   "execution_count": 16,
   "id": "e11cde58",
   "metadata": {},
   "outputs": [
    {
     "data": {
      "text/plain": [
       "(0.0, 1.0)"
      ]
     },
     "execution_count": 16,
     "metadata": {},
     "output_type": "execute_result"
    }
   ],
   "source": [
    "test_data.min(), test_data.max()"
   ]
  },
  {
   "cell_type": "markdown",
   "id": "20c450d3",
   "metadata": {},
   "source": [
    "## Final Check"
   ]
  },
  {
   "cell_type": "code",
   "execution_count": 17,
   "id": "d4ebf6c1",
   "metadata": {
    "scrolled": true
   },
   "outputs": [],
   "source": [
    "# print(train_data.dtype)\n",
    "# print(train_data.shape)\n",
    "# print(train_data[0])\n",
    "\n",
    "# print(train_labels.dtype)\n",
    "# print(train_labels.shape)\n",
    "# print(train_labels[0])\n",
    "\n",
    "# print(test_data.dtype)\n",
    "# print(test_data.shape)\n",
    "# print(test_data[0])\n",
    "\n",
    "# print(test_labels.dtype)\n",
    "# print(test_labels.shape)\n",
    "# print(test_labels[0])"
   ]
  },
  {
   "cell_type": "markdown",
   "id": "fff02c5c",
   "metadata": {},
   "source": [
    "## Use some portion of data"
   ]
  },
  {
   "cell_type": "code",
   "execution_count": 18,
   "id": "3ad59c04",
   "metadata": {},
   "outputs": [],
   "source": [
    "train_data = train_data[:30000]\n",
    "train_labels = train_labels[:30000]"
   ]
  },
  {
   "cell_type": "code",
   "execution_count": 19,
   "id": "431d2f52",
   "metadata": {},
   "outputs": [
    {
     "data": {
      "text/plain": [
       "(30000, 784)"
      ]
     },
     "execution_count": 19,
     "metadata": {},
     "output_type": "execute_result"
    }
   ],
   "source": [
    "train_data.shape"
   ]
  },
  {
   "cell_type": "code",
   "execution_count": 20,
   "id": "ccfe06b4",
   "metadata": {},
   "outputs": [
    {
     "data": {
      "text/plain": [
       "(30000, 10)"
      ]
     },
     "execution_count": 20,
     "metadata": {},
     "output_type": "execute_result"
    }
   ],
   "source": [
    "train_labels.shape"
   ]
  },
  {
   "cell_type": "markdown",
   "id": "aa8701ab",
   "metadata": {},
   "source": [
    "## Creating Classification Model"
   ]
  },
  {
   "cell_type": "code",
   "execution_count": 21,
   "id": "ac37f33f",
   "metadata": {},
   "outputs": [],
   "source": [
    "from tensorflow.keras.layers import Dense, Input, Dropout\n",
    "from tensorflow.keras.models import Model"
   ]
  },
  {
   "cell_type": "code",
   "execution_count": 22,
   "id": "1ba075d5",
   "metadata": {},
   "outputs": [
    {
     "name": "stdout",
     "output_type": "stream",
     "text": [
      "Model: \"model\"\n",
      "_________________________________________________________________\n",
      "Layer (type)                 Output Shape              Param #   \n",
      "=================================================================\n",
      "input_1 (InputLayer)         [(None, 784)]             0         \n",
      "_________________________________________________________________\n",
      "dense (Dense)                (None, 512)               401920    \n",
      "_________________________________________________________________\n",
      "dropout (Dropout)            (None, 512)               0         \n",
      "_________________________________________________________________\n",
      "dense_1 (Dense)              (None, 256)               131328    \n",
      "_________________________________________________________________\n",
      "dropout_1 (Dropout)          (None, 256)               0         \n",
      "_________________________________________________________________\n",
      "dense_2 (Dense)              (None, 128)               32896     \n",
      "_________________________________________________________________\n",
      "dense_3 (Dense)              (None, 10)                1290      \n",
      "=================================================================\n",
      "Total params: 567,434\n",
      "Trainable params: 567,434\n",
      "Non-trainable params: 0\n",
      "_________________________________________________________________\n"
     ]
    }
   ],
   "source": [
    "input_layer = Input(shape=(784,))\n",
    "h1 = Dense(512, activation='relu', kernel_regularizer=tf.keras.regularizers.l2(0.001))(input_layer)\n",
    "d1 = Dropout(0.25)(h1)\n",
    "h2 = Dense(256, activation='relu', kernel_regularizer=tf.keras.regularizers.l2(0.001))(d1)\n",
    "d2 = Dropout(0.25)(h2)\n",
    "h3 = Dense(128, activation='relu', kernel_regularizer=tf.keras.regularizers.l2(0.001))(d2)\n",
    "output_layer = Dense(10, activation='softmax', kernel_regularizer=tf.keras.regularizers.l2(0.001))(h3)\n",
    "mnist_model = Model(input_layer, output_layer)\n",
    "mnist_model.summary()"
   ]
  },
  {
   "cell_type": "markdown",
   "id": "59741bcc",
   "metadata": {},
   "source": [
    "## Compile the model\n",
    "### Early Stopping method to avoid overfitting"
   ]
  },
  {
   "cell_type": "code",
   "execution_count": 23,
   "id": "1cb3b091",
   "metadata": {},
   "outputs": [],
   "source": [
    "from tensorflow.keras.callbacks import EarlyStopping"
   ]
  },
  {
   "cell_type": "code",
   "execution_count": 24,
   "id": "3b567613",
   "metadata": {},
   "outputs": [],
   "source": [
    "early_stop = EarlyStopping(monitor='accuracy', patience=10, mode='max', restore_best_weights=True)"
   ]
  },
  {
   "cell_type": "markdown",
   "id": "9a270334",
   "metadata": {},
   "source": [
    "### Specify optimizer and loss function"
   ]
  },
  {
   "cell_type": "code",
   "execution_count": 25,
   "id": "430cc16a",
   "metadata": {},
   "outputs": [],
   "source": [
    "mnist_model.compile(optimizer='adam', loss='categorical_crossentropy', metrics=['accuracy'])"
   ]
  },
  {
   "cell_type": "markdown",
   "id": "8b001411",
   "metadata": {},
   "source": [
    "## Train the model"
   ]
  },
  {
   "cell_type": "code",
   "execution_count": 28,
   "id": "c161033f",
   "metadata": {},
   "outputs": [
    {
     "name": "stdout",
     "output_type": "stream",
     "text": [
      "Train on 22500 samples, validate on 7500 samples\n",
      "Epoch 1/40\n",
      "22500/22500 [==============================] - 15s 680us/sample - loss: 0.9570 - accuracy: 0.8849 - val_loss: 0.6522 - val_accuracy: 0.9251\n",
      "Epoch 2/40\n",
      "22500/22500 [==============================] - 13s 562us/sample - loss: 0.5461 - accuracy: 0.9410 - val_loss: 0.4919 - val_accuracy: 0.9405\n",
      "Epoch 3/40\n",
      "22500/22500 [==============================] - 12s 547us/sample - loss: 0.4503 - accuracy: 0.9468 - val_loss: 0.4282 - val_accuracy: 0.9487\n",
      "Epoch 4/40\n",
      "22500/22500 [==============================] - 14s 641us/sample - loss: 0.4093 - accuracy: 0.9509 - val_loss: 0.3940 - val_accuracy: 0.9536\n",
      "Epoch 5/40\n",
      "22500/22500 [==============================] - 12s 513us/sample - loss: 0.3841 - accuracy: 0.9546 - val_loss: 0.4015 - val_accuracy: 0.9465\n",
      "Epoch 6/40\n",
      "22500/22500 [==============================] - 13s 597us/sample - loss: 0.3701 - accuracy: 0.9568 - val_loss: 0.3755 - val_accuracy: 0.9520\n",
      "Epoch 7/40\n",
      "22500/22500 [==============================] - 17s 750us/sample - loss: 0.3631 - accuracy: 0.9564 - val_loss: 0.3521 - val_accuracy: 0.9611c\n",
      "Epoch 8/40\n",
      "22500/22500 [==============================] - 14s 625us/sample - loss: 0.3593 - accuracy: 0.9585 - val_loss: 0.3625 - val_accuracy: 0.9549\n",
      "Epoch 9/40\n",
      "22500/22500 [==============================] - 14s 605us/sample - loss: 0.3443 - accuracy: 0.9596 - val_loss: 0.3497 - val_accuracy: 0.9565\n",
      "Epoch 10/40\n",
      "22500/22500 [==============================] - 12s 539us/sample - loss: 0.3411 - accuracy: 0.9598 - val_loss: 0.3514 - val_accuracy: 0.9567\n",
      "Epoch 11/40\n",
      "22500/22500 [==============================] - 14s 618us/sample - loss: 0.3407 - accuracy: 0.9584 - val_loss: 0.3543 - val_accuracy: 0.9556\n",
      "Epoch 12/40\n",
      "22500/22500 [==============================] - 11s 505us/sample - loss: 0.3395 - accuracy: 0.9595 - val_loss: 0.3524 - val_accuracy: 0.9553\n",
      "Epoch 13/40\n",
      "22500/22500 [==============================] - 11s 503us/sample - loss: 0.3336 - accuracy: 0.9600 - val_loss: 0.3771 - val_accuracy: 0.9452\n",
      "Epoch 14/40\n",
      "22500/22500 [==============================] - 12s 531us/sample - loss: 0.3351 - accuracy: 0.9590 - val_loss: 0.3254 - val_accuracy: 0.9632\n",
      "Epoch 15/40\n",
      "22500/22500 [==============================] - 14s 617us/sample - loss: 0.3341 - accuracy: 0.9590 - val_loss: 0.3225 - val_accuracy: 0.9619\n",
      "Epoch 16/40\n",
      "22500/22500 [==============================] - 15s 645us/sample - loss: 0.3240 - accuracy: 0.9618 - val_loss: 0.3192 - val_accuracy: 0.9612\n",
      "Epoch 17/40\n",
      "22500/22500 [==============================] - 14s 627us/sample - loss: 0.3190 - accuracy: 0.9625 - val_loss: 0.3332 - val_accuracy: 0.9565\n",
      "Epoch 18/40\n",
      "22500/22500 [==============================] - 16s 708us/sample - loss: 0.3197 - accuracy: 0.9611 - val_loss: 0.3109 - val_accuracy: 0.9628\n",
      "Epoch 19/40\n",
      "22500/22500 [==============================] - 15s 658us/sample - loss: 0.3199 - accuracy: 0.9621 - val_loss: 0.3227 - val_accuracy: 0.9599\n",
      "Epoch 20/40\n",
      "22500/22500 [==============================] - 16s 724us/sample - loss: 0.3143 - accuracy: 0.9637 - val_loss: 0.3313 - val_accuracy: 0.9532\n",
      "Epoch 21/40\n",
      "22500/22500 [==============================] - 15s 671us/sample - loss: 0.3199 - accuracy: 0.9628 - val_loss: 0.3235 - val_accuracy: 0.9565\n",
      "Epoch 22/40\n",
      "22500/22500 [==============================] - 13s 580us/sample - loss: 0.3138 - accuracy: 0.9627 - val_loss: 0.3344 - val_accuracy: 0.9580\n",
      "Epoch 23/40\n",
      "22500/22500 [==============================] - 19s 856us/sample - loss: 0.3190 - accuracy: 0.9606 - val_loss: 0.3080 - val_accuracy: 0.9616\n",
      "Epoch 24/40\n",
      "22500/22500 [==============================] - 14s 629us/sample - loss: 0.3123 - accuracy: 0.9636 - val_loss: 0.3175 - val_accuracy: 0.9608\n",
      "Epoch 25/40\n",
      "22500/22500 [==============================] - 15s 677us/sample - loss: 0.3146 - accuracy: 0.9620 - val_loss: 0.3265 - val_accuracy: 0.9567\n",
      "Epoch 26/40\n",
      "22500/22500 [==============================] - 15s 664us/sample - loss: 0.3132 - accuracy: 0.9614 - val_loss: 0.3082 - val_accuracy: 0.9639\n",
      "Epoch 27/40\n",
      "22500/22500 [==============================] - 15s 651us/sample - loss: 0.3159 - accuracy: 0.9628 - val_loss: 0.3126 - val_accuracy: 0.9607\n",
      "Epoch 28/40\n",
      "22500/22500 [==============================] - 15s 645us/sample - loss: 0.3104 - accuracy: 0.9638 - val_loss: 0.3355 - val_accuracy: 0.9556\n",
      "Epoch 29/40\n",
      "22500/22500 [==============================] - 14s 636us/sample - loss: 0.3105 - accuracy: 0.9628 - val_loss: 0.3233 - val_accuracy: 0.9552\n",
      "Epoch 30/40\n",
      "22500/22500 [==============================] - 14s 608us/sample - loss: 0.3096 - accuracy: 0.9628 - val_loss: 0.3026 - val_accuracy: 0.9625\n",
      "Epoch 31/40\n",
      "22500/22500 [==============================] - 14s 643us/sample - loss: 0.3093 - accuracy: 0.9629 - val_loss: 0.3012 - val_accuracy: 0.9632\n",
      "Epoch 32/40\n",
      "22500/22500 [==============================] - 15s 670us/sample - loss: 0.3036 - accuracy: 0.9643 - val_loss: 0.3064 - val_accuracy: 0.9643\n",
      "Epoch 33/40\n",
      "22500/22500 [==============================] - 20s 877us/sample - loss: 0.3118 - accuracy: 0.9620 - val_loss: 0.3039 - val_accuracy: 0.9641 0s - loss: 0.310\n",
      "Epoch 34/40\n",
      "22500/22500 [==============================] - 15s 651us/sample - loss: 0.3092 - accuracy: 0.9633 - val_loss: 0.2979 - val_accuracy: 0.9645\n",
      "Epoch 35/40\n",
      "22500/22500 [==============================] - 14s 609us/sample - loss: 0.3047 - accuracy: 0.9626 - val_loss: 0.3222 - val_accuracy: 0.9591\n",
      "Epoch 36/40\n",
      "22500/22500 [==============================] - 14s 603us/sample - loss: 0.3128 - accuracy: 0.9618 - val_loss: 0.3259 - val_accuracy: 0.9585\n",
      "Epoch 37/40\n",
      "22500/22500 [==============================] - 13s 584us/sample - loss: 0.3028 - accuracy: 0.9647 - val_loss: 0.3090 - val_accuracy: 0.9615\n",
      "Epoch 38/40\n",
      "22500/22500 [==============================] - 14s 629us/sample - loss: 0.3065 - accuracy: 0.9646 - val_loss: 0.3337 - val_accuracy: 0.9544\n",
      "Epoch 39/40\n",
      "22500/22500 [==============================] - 13s 572us/sample - loss: 0.3040 - accuracy: 0.9647 - val_loss: 0.3048 - val_accuracy: 0.9640\n",
      "Epoch 40/40\n",
      "22500/22500 [==============================] - 14s 617us/sample - loss: 0.3052 - accuracy: 0.9634 - val_loss: 0.3065 - val_accuracy: 0.9625\n"
     ]
    },
    {
     "data": {
      "text/plain": [
       "<tensorflow.python.keras.callbacks.History at 0x18fa26a8cc8>"
      ]
     },
     "execution_count": 28,
     "metadata": {},
     "output_type": "execute_result"
    }
   ],
   "source": [
    "mnist_model.fit(x=train_data, y=train_labels, batch_size=32, epochs=40, callbacks=[early_stop], validation_split=0.25)"
   ]
  },
  {
   "cell_type": "code",
   "execution_count": null,
   "id": "bc4a8cef",
   "metadata": {},
   "outputs": [],
   "source": []
  },
  {
   "cell_type": "code",
   "execution_count": 29,
   "id": "56c98c9e",
   "metadata": {
    "scrolled": false
   },
   "outputs": [
    {
     "data": {
      "text/plain": [
       "<AxesSubplot:>"
      ]
     },
     "execution_count": 29,
     "metadata": {},
     "output_type": "execute_result"
    },
    {
     "data": {
      "image/png": "[encoded data removed]",
      "text/plain": [
       "<Figure size 432x288 with 1 Axes>"
      ]
     },
     "metadata": {
      "needs_background": "light"
     },
     "output_type": "display_data"
    }
   ],
   "source": [
    "pd.DataFrame({'loss':mnist_model.history.history['loss'],\n",
    "             'val_loss':mnist_model.history.history['val_loss']}).plot()"
   ]
  },
  {
   "cell_type": "code",
   "execution_count": null,
   "id": "9613c498",
   "metadata": {},
   "outputs": [],
   "source": []
  },
  {
   "cell_type": "code",
   "execution_count": 30,
   "id": "9fd08396",
   "metadata": {},
   "outputs": [
    {
     "data": {
      "text/plain": [
       "<AxesSubplot:>"
      ]
     },
     "execution_count": 30,
     "metadata": {},
     "output_type": "execute_result"
    },
    {
     "data": {
      "image/png": "[encoded data removed]",
      "text/plain": [
       "<Figure size 432x288 with 1 Axes>"
      ]
     },
     "metadata": {
      "needs_background": "light"
     },
     "output_type": "display_data"
    }
   ],
   "source": [
    "pd.DataFrame({'loss':mnist_model.history.history['loss'],\n",
    "             'accuracy':mnist_model.history.history['accuracy']}).plot()"
   ]
  },
  {
   "cell_type": "code",
   "execution_count": 31,
   "id": "089dfe1a",
   "metadata": {},
   "outputs": [
    {
     "data": {
      "text/plain": [
       "0.30276324370172286"
      ]
     },
     "execution_count": 31,
     "metadata": {},
     "output_type": "execute_result"
    }
   ],
   "source": [
    "np.min(mnist_model.history.history['loss'])"
   ]
  },
  {
   "cell_type": "code",
   "execution_count": 32,
   "id": "88de18db",
   "metadata": {},
   "outputs": [
    {
     "data": {
      "text/plain": [
       "0.9647111"
      ]
     },
     "execution_count": 32,
     "metadata": {},
     "output_type": "execute_result"
    }
   ],
   "source": [
    "np.max(mnist_model.history.history['accuracy'])"
   ]
  },
  {
   "cell_type": "markdown",
   "id": "9c5a0a1e",
   "metadata": {},
   "source": [
    "## Testing Model with test data"
   ]
  },
  {
   "cell_type": "code",
   "execution_count": null,
   "id": "4b1c21ec",
   "metadata": {},
   "outputs": [],
   "source": [
    "#compile, fit, evaluate, predict"
   ]
  },
  {
   "cell_type": "code",
   "execution_count": 33,
   "id": "96fd4e00",
   "metadata": {},
   "outputs": [
    {
     "name": "stdout",
     "output_type": "stream",
     "text": [
      "10000/10000 [==============================] - 2s 191us/sample - loss: 0.3027 - accuracy: 0.9648\n"
     ]
    },
    {
     "data": {
      "text/plain": [
       "[0.3026947006702423, 0.9648]"
      ]
     },
     "execution_count": 33,
     "metadata": {},
     "output_type": "execute_result"
    }
   ],
   "source": [
    "mnist_model.evaluate(test_data, test_labels, batch_size=32)"
   ]
  },
  {
   "cell_type": "code",
   "execution_count": 35,
   "id": "f416c5a3",
   "metadata": {},
   "outputs": [],
   "source": [
    "prediction = mnist_model.predict(test_data)"
   ]
  },
  {
   "cell_type": "code",
   "execution_count": 36,
   "id": "82be2e34",
   "metadata": {},
   "outputs": [
    {
     "data": {
      "text/plain": [
       "(7, array([0., 0., 0., 0., 0., 0., 0., 1., 0., 0.], dtype=float32))"
      ]
     },
     "execution_count": 36,
     "metadata": {},
     "output_type": "execute_result"
    }
   ],
   "source": [
    "np.argmax(prediction[0]), test_labels[0]"
   ]
  },
  {
   "cell_type": "markdown",
   "id": "3b660214",
   "metadata": {},
   "source": [
    " "
   ]
  }
 ],
 "metadata": {
  "kernelspec": {
   "display_name": "Python 3",
   "language": "python",
   "name": "python3"
  },
  "language_info": {
   "codemirror_mode": {
    "name": "ipython",
    "version": 3
   },
   "file_extension": ".py",
   "mimetype": "text/x-python",
   "name": "python",
   "nbconvert_exporter": "python",
   "pygments_lexer": "ipython3",
   "version": "3.7.10"
  }
 },
 "nbformat": 4,
 "nbformat_minor": 5
}
